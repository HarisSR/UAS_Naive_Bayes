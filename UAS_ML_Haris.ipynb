{
  "nbformat": 4,
  "nbformat_minor": 0,
  "metadata": {
    "colab": {
      "name": "UAS_ML_Haris.ipynb",
      "provenance": [],
      "collapsed_sections": [],
      "authorship_tag": "ABX9TyMJTonfHz6tBZVDofXzSPTe",
      "include_colab_link": true
    },
    "kernelspec": {
      "name": "python3",
      "display_name": "Python 3"
    }
  },
  "cells": [
    {
      "cell_type": "markdown",
      "metadata": {
        "id": "view-in-github",
        "colab_type": "text"
      },
      "source": [
        "<a href=\"https://colab.research.google.com/github/HarisSR/UAS_Naive_Bayes/blob/master/UAS_ML_Haris.ipynb\" target=\"_parent\"><img src=\"https://colab.research.google.com/assets/colab-badge.svg\" alt=\"Open In Colab\"/></a>"
      ]
    },
    {
      "cell_type": "code",
      "metadata": {
        "id": "Uk8pyJAFhP0L"
      },
      "source": [
        "biaya = ['murah','murah','murah','murah','murah','standar','standar','mahal','mahal','mahal'];\n",
        "income = ['rendah','sedang','sedang','rendah','sedang','sedang','sedan','tinggi','sedang','tinggi'];\n",
        "model = ['bus','bus','kreta api','bus','bus','kreta api','kreta api','mobil','mobil','mobil'];\n",
        "tujuan = ['no','yes','yes','no','yes','no','yes','yes','no','no'];"
      ],
      "execution_count": 1,
      "outputs": []
    },
    {
      "cell_type": "code",
      "metadata": {
        "colab": {
          "base_uri": "https://localhost:8080/"
        },
        "id": "5bms6SSui8DA",
        "outputId": "8cf2c110-40e7-4138-d53a-57e71baddb1a"
      },
      "source": [
        "from sklearn import preprocessing\n",
        "le = preprocessing.LabelEncoder()\n",
        "\n",
        "biaya_encoded = le.fit_transform(biaya)\n",
        "income_encoded = le.fit_transform(income)\n",
        "model_encoded = le.fit_transform(model)\n",
        "tujuan_encoded = le.fit_transform(tujuan)\n",
        "\n",
        "features = zip(biaya_encoded,income_encoded,model_encoded)\n",
        "features = list(features)\n",
        "\n",
        "print(tuple(features))\n",
        "print(biaya_encoded)\n"
      ],
      "execution_count": 3,
      "outputs": [
        {
          "output_type": "stream",
          "text": [
            "((1, 0, 0), (1, 2, 0), (1, 2, 1), (1, 0, 0), (1, 2, 0), (2, 2, 1), (2, 1, 1), (0, 3, 2), (0, 2, 2), (0, 3, 2))\n",
            "[1 1 1 1 1 2 2 0 0 0]\n"
          ],
          "name": "stdout"
        }
      ]
    },
    {
      "cell_type": "code",
      "metadata": {
        "colab": {
          "base_uri": "https://localhost:8080/"
        },
        "id": "d3Pd9pSNlKkH",
        "outputId": "3bd3a123-6f2f-4921-d6cd-f8604b2d8b91"
      },
      "source": [
        "from sklearn.naive_bayes import GaussianNB\n",
        "\n",
        "model = GaussianNB()\n",
        "model.fit(features, tujuan_encoded)\n",
        "\n",
        "predicted = model.predict([[0,2,1]])\n",
        "print(\"predicted value :\", predicted)"
      ],
      "execution_count": 7,
      "outputs": [
        {
          "output_type": "stream",
          "text": [
            "predicted value : [1]\n"
          ],
          "name": "stdout"
        }
      ]
    }
  ]
}